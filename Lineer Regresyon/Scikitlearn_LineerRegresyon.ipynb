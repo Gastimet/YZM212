{
 "cells": [
  {
   "cell_type": "code",
   "execution_count": 5,
   "id": "d139c1c5-9fc4-4483-9407-7c418d20d610",
   "metadata": {},
   "outputs": [],
   "source": [
    "from sklearn.linear_model import LinearRegression\n",
    "from sklearn.metrics import mean_squared_error\n",
    "import numpy as np\n",
    "import pandas as pd"
   ]
  },
  {
   "cell_type": "code",
   "execution_count": 8,
   "id": "7fb326d0-a7cf-40ff-8ff1-0f375eb69146",
   "metadata": {},
   "outputs": [
    {
     "name": "stdout",
     "output_type": "stream",
     "text": [
      "<class 'pandas.core.frame.DataFrame'>\n",
      "RangeIndex: 300 entries, 0 to 299\n",
      "Data columns (total 2 columns):\n",
      " #   Column  Non-Null Count  Dtype  \n",
      "---  ------  --------------  -----  \n",
      " 0   x       300 non-null    int64  \n",
      " 1   y       300 non-null    float64\n",
      "dtypes: float64(1), int64(1)\n",
      "memory usage: 4.8 KB\n"
     ]
    },
    {
     "data": {
      "text/plain": [
       "array([ 77,  21,  22,  20,  36,  15,  62,  95,  20,   5,   4,  19,  96,\n",
       "        62,  36,  15,  65,  14,  87,  69,  89,  51,  89,  27,  97,  58,\n",
       "        79,  21,  93,  27,  99,  31,  33,  80,  28,  47,  53,  69,  28,\n",
       "        33,  91,  71,  50,  76,   4,  37,  70,  68,  40,  35,  94,  88,\n",
       "        52,  31,  59,   0,  39,  64,  69,  57,  13,  72,  76,  61,  82,\n",
       "        18,  41,  50,  55,  13,  46,  13,  79,  53,  15,  28,  81,  69,\n",
       "        52,  84,  68,  27,  56,  48,  40,  39,  82, 100,  59,  43,  67,\n",
       "        38,  63,  91,  60,  14,  21,  87,  73,  32,   2,  82,  19,  74,\n",
       "        42,  12,   1,  90,  89,   0,  41,  16,  94,  97,  66,  24,  17,\n",
       "        90,  13,   0,  64,  96,  98,  12,  41,  47,  78,  20,  89,  29,\n",
       "        64,  75,  12,  25,  28,  30,  65,  59,  64,  53,  71,  97,  73,\n",
       "         9,  12,  63,  99,  60,  35,   2,  60,  32,  94,  84,  63,  22,\n",
       "        81,  93,  33,   7,  42,  46,  54,  16,  49,  43,  95,  66,  21,\n",
       "        35,  80,  37,  54,  56,   1,  32,  58,  32,  46,  72,  17,  97,\n",
       "        93,  91,  37,   4,  54,  51,  27,  46,  92,  73,  77,  91,  61,\n",
       "        99,   4,  72,  19,  57,  78,  26,  74,  90,  66,  13,  40,  77,\n",
       "        67,  75,  23,  45,  59,  44,  23,  55,  55,  95,  12,   4,   7,\n",
       "       100,  48,  42,  96,  39, 100,  87,  14,  14,  37,   5,  88,  91,\n",
       "        65,  74,  56,  16,   5,  28,  92,  46,  54,  39,  44,  31,  68,\n",
       "        86,  90,  38,  21,  95,  56,  60,  65,  78,  89,   6,  67,  36,\n",
       "        16, 100,  45,  73,  57,  20,  76,  34,  55,  72,  55,   8,  56,\n",
       "        72,  58,   6,  96,  23,  58,  23,  19,  25,  64,  21,  59,  19,\n",
       "        16,  42,  43,  61,  92,  11,  41,   1,   8,  71,  46,  55,  62,\n",
       "        47], dtype=int64)"
      ]
     },
     "execution_count": 8,
     "metadata": {},
     "output_type": "execute_result"
    }
   ],
   "source": [
    "test = pd.read_csv(\"test.csv\")\n",
    "test.info()\n",
    "\n",
    "X= np.array(test[\"x\"])\n",
    "y= np.array(test[\"y\"])\n",
    "X"
   ]
  },
  {
   "cell_type": "code",
   "execution_count": 7,
   "id": "ef6963ab-8676-4568-8b8e-ffbd8c7c4e6b",
   "metadata": {},
   "outputs": [
    {
     "ename": "ValueError",
     "evalue": "Expected 2D array, got 1D array instead:\narray=[ 77  21  22  20  36  15  62  95  20   5   4  19  96  62  36  15  65  14\n  87  69  89  51  89  27  97  58  79  21  93  27  99  31  33  80  28  47\n  53  69  28  33  91  71  50  76   4  37  70  68  40  35  94  88  52  31\n  59   0  39  64  69  57  13  72  76  61  82  18  41  50  55  13  46  13\n  79  53  15  28  81  69  52  84  68  27  56  48  40  39  82 100  59  43\n  67  38  63  91  60  14  21  87  73  32   2  82  19  74  42  12   1  90\n  89   0  41  16  94  97  66  24  17  90  13   0  64  96  98  12  41  47\n  78  20  89  29  64  75  12  25  28  30  65  59  64  53  71  97  73   9\n  12  63  99  60  35   2  60  32  94  84  63  22  81  93  33   7  42  46\n  54  16  49  43  95  66  21  35  80  37  54  56   1  32  58  32  46  72\n  17  97  93  91  37   4  54  51  27  46  92  73  77  91  61  99   4  72\n  19  57  78  26  74  90  66  13  40  77  67  75  23  45  59  44  23  55\n  55  95  12   4   7 100  48  42  96  39 100  87  14  14  37   5  88  91\n  65  74  56  16   5  28  92  46  54  39  44  31  68  86  90  38  21  95\n  56  60  65  78  89   6  67  36  16 100  45  73  57  20  76  34  55  72\n  55   8  56  72  58   6  96  23  58  23  19  25  64  21  59  19  16  42\n  43  61  92  11  41   1   8  71  46  55  62  47].\nReshape your data either using array.reshape(-1, 1) if your data has a single feature or array.reshape(1, -1) if it contains a single sample.",
     "output_type": "error",
     "traceback": [
      "\u001b[1;31m---------------------------------------------------------------------------\u001b[0m",
      "\u001b[1;31mValueError\u001b[0m                                Traceback (most recent call last)",
      "Cell \u001b[1;32mIn[7], line 3\u001b[0m\n\u001b[0;32m      1\u001b[0m \u001b[38;5;66;03m# 1. Scikit-learn LinearRegression modelini eğitelim\u001b[39;00m\n\u001b[0;32m      2\u001b[0m model \u001b[38;5;241m=\u001b[39m LinearRegression()  \u001b[38;5;66;03m# Modeli tanımlıyoruz\u001b[39;00m\n\u001b[1;32m----> 3\u001b[0m model\u001b[38;5;241m.\u001b[39mfit(X, y)  \u001b[38;5;66;03m# Modeli verilerle eğitiyoruz\u001b[39;00m\n\u001b[0;32m      5\u001b[0m \u001b[38;5;66;03m# 2. Tahmin (Prediction) yapalım\u001b[39;00m\n\u001b[0;32m      6\u001b[0m y_pred \u001b[38;5;241m=\u001b[39m model\u001b[38;5;241m.\u001b[39mpredict(X)  \u001b[38;5;66;03m# Modelin tahmin değerlerini hesaplıyoruz\u001b[39;00m\n",
      "File \u001b[1;32m~\\anaconda3\\Lib\\site-packages\\sklearn\\base.py:1473\u001b[0m, in \u001b[0;36m_fit_context.<locals>.decorator.<locals>.wrapper\u001b[1;34m(estimator, *args, **kwargs)\u001b[0m\n\u001b[0;32m   1466\u001b[0m     estimator\u001b[38;5;241m.\u001b[39m_validate_params()\n\u001b[0;32m   1468\u001b[0m \u001b[38;5;28;01mwith\u001b[39;00m config_context(\n\u001b[0;32m   1469\u001b[0m     skip_parameter_validation\u001b[38;5;241m=\u001b[39m(\n\u001b[0;32m   1470\u001b[0m         prefer_skip_nested_validation \u001b[38;5;129;01mor\u001b[39;00m global_skip_validation\n\u001b[0;32m   1471\u001b[0m     )\n\u001b[0;32m   1472\u001b[0m ):\n\u001b[1;32m-> 1473\u001b[0m     \u001b[38;5;28;01mreturn\u001b[39;00m fit_method(estimator, \u001b[38;5;241m*\u001b[39margs, \u001b[38;5;241m*\u001b[39m\u001b[38;5;241m*\u001b[39mkwargs)\n",
      "File \u001b[1;32m~\\anaconda3\\Lib\\site-packages\\sklearn\\linear_model\\_base.py:609\u001b[0m, in \u001b[0;36mLinearRegression.fit\u001b[1;34m(self, X, y, sample_weight)\u001b[0m\n\u001b[0;32m    605\u001b[0m n_jobs_ \u001b[38;5;241m=\u001b[39m \u001b[38;5;28mself\u001b[39m\u001b[38;5;241m.\u001b[39mn_jobs\n\u001b[0;32m    607\u001b[0m accept_sparse \u001b[38;5;241m=\u001b[39m \u001b[38;5;28;01mFalse\u001b[39;00m \u001b[38;5;28;01mif\u001b[39;00m \u001b[38;5;28mself\u001b[39m\u001b[38;5;241m.\u001b[39mpositive \u001b[38;5;28;01melse\u001b[39;00m [\u001b[38;5;124m\"\u001b[39m\u001b[38;5;124mcsr\u001b[39m\u001b[38;5;124m\"\u001b[39m, \u001b[38;5;124m\"\u001b[39m\u001b[38;5;124mcsc\u001b[39m\u001b[38;5;124m\"\u001b[39m, \u001b[38;5;124m\"\u001b[39m\u001b[38;5;124mcoo\u001b[39m\u001b[38;5;124m\"\u001b[39m]\n\u001b[1;32m--> 609\u001b[0m X, y \u001b[38;5;241m=\u001b[39m \u001b[38;5;28mself\u001b[39m\u001b[38;5;241m.\u001b[39m_validate_data(\n\u001b[0;32m    610\u001b[0m     X,\n\u001b[0;32m    611\u001b[0m     y,\n\u001b[0;32m    612\u001b[0m     accept_sparse\u001b[38;5;241m=\u001b[39maccept_sparse,\n\u001b[0;32m    613\u001b[0m     y_numeric\u001b[38;5;241m=\u001b[39m\u001b[38;5;28;01mTrue\u001b[39;00m,\n\u001b[0;32m    614\u001b[0m     multi_output\u001b[38;5;241m=\u001b[39m\u001b[38;5;28;01mTrue\u001b[39;00m,\n\u001b[0;32m    615\u001b[0m     force_writeable\u001b[38;5;241m=\u001b[39m\u001b[38;5;28;01mTrue\u001b[39;00m,\n\u001b[0;32m    616\u001b[0m )\n\u001b[0;32m    618\u001b[0m has_sw \u001b[38;5;241m=\u001b[39m sample_weight \u001b[38;5;129;01mis\u001b[39;00m \u001b[38;5;129;01mnot\u001b[39;00m \u001b[38;5;28;01mNone\u001b[39;00m\n\u001b[0;32m    619\u001b[0m \u001b[38;5;28;01mif\u001b[39;00m has_sw:\n",
      "File \u001b[1;32m~\\anaconda3\\Lib\\site-packages\\sklearn\\base.py:650\u001b[0m, in \u001b[0;36mBaseEstimator._validate_data\u001b[1;34m(self, X, y, reset, validate_separately, cast_to_ndarray, **check_params)\u001b[0m\n\u001b[0;32m    648\u001b[0m         y \u001b[38;5;241m=\u001b[39m check_array(y, input_name\u001b[38;5;241m=\u001b[39m\u001b[38;5;124m\"\u001b[39m\u001b[38;5;124my\u001b[39m\u001b[38;5;124m\"\u001b[39m, \u001b[38;5;241m*\u001b[39m\u001b[38;5;241m*\u001b[39mcheck_y_params)\n\u001b[0;32m    649\u001b[0m     \u001b[38;5;28;01melse\u001b[39;00m:\n\u001b[1;32m--> 650\u001b[0m         X, y \u001b[38;5;241m=\u001b[39m check_X_y(X, y, \u001b[38;5;241m*\u001b[39m\u001b[38;5;241m*\u001b[39mcheck_params)\n\u001b[0;32m    651\u001b[0m     out \u001b[38;5;241m=\u001b[39m X, y\n\u001b[0;32m    653\u001b[0m \u001b[38;5;28;01mif\u001b[39;00m \u001b[38;5;129;01mnot\u001b[39;00m no_val_X \u001b[38;5;129;01mand\u001b[39;00m check_params\u001b[38;5;241m.\u001b[39mget(\u001b[38;5;124m\"\u001b[39m\u001b[38;5;124mensure_2d\u001b[39m\u001b[38;5;124m\"\u001b[39m, \u001b[38;5;28;01mTrue\u001b[39;00m):\n",
      "File \u001b[1;32m~\\anaconda3\\Lib\\site-packages\\sklearn\\utils\\validation.py:1301\u001b[0m, in \u001b[0;36mcheck_X_y\u001b[1;34m(X, y, accept_sparse, accept_large_sparse, dtype, order, copy, force_writeable, force_all_finite, ensure_2d, allow_nd, multi_output, ensure_min_samples, ensure_min_features, y_numeric, estimator)\u001b[0m\n\u001b[0;32m   1296\u001b[0m         estimator_name \u001b[38;5;241m=\u001b[39m _check_estimator_name(estimator)\n\u001b[0;32m   1297\u001b[0m     \u001b[38;5;28;01mraise\u001b[39;00m \u001b[38;5;167;01mValueError\u001b[39;00m(\n\u001b[0;32m   1298\u001b[0m         \u001b[38;5;124mf\u001b[39m\u001b[38;5;124m\"\u001b[39m\u001b[38;5;132;01m{\u001b[39;00mestimator_name\u001b[38;5;132;01m}\u001b[39;00m\u001b[38;5;124m requires y to be passed, but the target y is None\u001b[39m\u001b[38;5;124m\"\u001b[39m\n\u001b[0;32m   1299\u001b[0m     )\n\u001b[1;32m-> 1301\u001b[0m X \u001b[38;5;241m=\u001b[39m check_array(\n\u001b[0;32m   1302\u001b[0m     X,\n\u001b[0;32m   1303\u001b[0m     accept_sparse\u001b[38;5;241m=\u001b[39maccept_sparse,\n\u001b[0;32m   1304\u001b[0m     accept_large_sparse\u001b[38;5;241m=\u001b[39maccept_large_sparse,\n\u001b[0;32m   1305\u001b[0m     dtype\u001b[38;5;241m=\u001b[39mdtype,\n\u001b[0;32m   1306\u001b[0m     order\u001b[38;5;241m=\u001b[39morder,\n\u001b[0;32m   1307\u001b[0m     copy\u001b[38;5;241m=\u001b[39mcopy,\n\u001b[0;32m   1308\u001b[0m     force_writeable\u001b[38;5;241m=\u001b[39mforce_writeable,\n\u001b[0;32m   1309\u001b[0m     force_all_finite\u001b[38;5;241m=\u001b[39mforce_all_finite,\n\u001b[0;32m   1310\u001b[0m     ensure_2d\u001b[38;5;241m=\u001b[39mensure_2d,\n\u001b[0;32m   1311\u001b[0m     allow_nd\u001b[38;5;241m=\u001b[39mallow_nd,\n\u001b[0;32m   1312\u001b[0m     ensure_min_samples\u001b[38;5;241m=\u001b[39mensure_min_samples,\n\u001b[0;32m   1313\u001b[0m     ensure_min_features\u001b[38;5;241m=\u001b[39mensure_min_features,\n\u001b[0;32m   1314\u001b[0m     estimator\u001b[38;5;241m=\u001b[39mestimator,\n\u001b[0;32m   1315\u001b[0m     input_name\u001b[38;5;241m=\u001b[39m\u001b[38;5;124m\"\u001b[39m\u001b[38;5;124mX\u001b[39m\u001b[38;5;124m\"\u001b[39m,\n\u001b[0;32m   1316\u001b[0m )\n\u001b[0;32m   1318\u001b[0m y \u001b[38;5;241m=\u001b[39m _check_y(y, multi_output\u001b[38;5;241m=\u001b[39mmulti_output, y_numeric\u001b[38;5;241m=\u001b[39my_numeric, estimator\u001b[38;5;241m=\u001b[39mestimator)\n\u001b[0;32m   1320\u001b[0m check_consistent_length(X, y)\n",
      "File \u001b[1;32m~\\anaconda3\\Lib\\site-packages\\sklearn\\utils\\validation.py:1050\u001b[0m, in \u001b[0;36mcheck_array\u001b[1;34m(array, accept_sparse, accept_large_sparse, dtype, order, copy, force_writeable, force_all_finite, ensure_2d, allow_nd, ensure_min_samples, ensure_min_features, estimator, input_name)\u001b[0m\n\u001b[0;32m   1043\u001b[0m         \u001b[38;5;28;01melse\u001b[39;00m:\n\u001b[0;32m   1044\u001b[0m             msg \u001b[38;5;241m=\u001b[39m (\n\u001b[0;32m   1045\u001b[0m                 \u001b[38;5;124mf\u001b[39m\u001b[38;5;124m\"\u001b[39m\u001b[38;5;124mExpected 2D array, got 1D array instead:\u001b[39m\u001b[38;5;130;01m\\n\u001b[39;00m\u001b[38;5;124marray=\u001b[39m\u001b[38;5;132;01m{\u001b[39;00marray\u001b[38;5;132;01m}\u001b[39;00m\u001b[38;5;124m.\u001b[39m\u001b[38;5;130;01m\\n\u001b[39;00m\u001b[38;5;124m\"\u001b[39m\n\u001b[0;32m   1046\u001b[0m                 \u001b[38;5;124m\"\u001b[39m\u001b[38;5;124mReshape your data either using array.reshape(-1, 1) if \u001b[39m\u001b[38;5;124m\"\u001b[39m\n\u001b[0;32m   1047\u001b[0m                 \u001b[38;5;124m\"\u001b[39m\u001b[38;5;124myour data has a single feature or array.reshape(1, -1) \u001b[39m\u001b[38;5;124m\"\u001b[39m\n\u001b[0;32m   1048\u001b[0m                 \u001b[38;5;124m\"\u001b[39m\u001b[38;5;124mif it contains a single sample.\u001b[39m\u001b[38;5;124m\"\u001b[39m\n\u001b[0;32m   1049\u001b[0m             )\n\u001b[1;32m-> 1050\u001b[0m         \u001b[38;5;28;01mraise\u001b[39;00m \u001b[38;5;167;01mValueError\u001b[39;00m(msg)\n\u001b[0;32m   1052\u001b[0m \u001b[38;5;28;01mif\u001b[39;00m dtype_numeric \u001b[38;5;129;01mand\u001b[39;00m \u001b[38;5;28mhasattr\u001b[39m(array\u001b[38;5;241m.\u001b[39mdtype, \u001b[38;5;124m\"\u001b[39m\u001b[38;5;124mkind\u001b[39m\u001b[38;5;124m\"\u001b[39m) \u001b[38;5;129;01mand\u001b[39;00m array\u001b[38;5;241m.\u001b[39mdtype\u001b[38;5;241m.\u001b[39mkind \u001b[38;5;129;01min\u001b[39;00m \u001b[38;5;124m\"\u001b[39m\u001b[38;5;124mUSV\u001b[39m\u001b[38;5;124m\"\u001b[39m:\n\u001b[0;32m   1053\u001b[0m     \u001b[38;5;28;01mraise\u001b[39;00m \u001b[38;5;167;01mValueError\u001b[39;00m(\n\u001b[0;32m   1054\u001b[0m         \u001b[38;5;124m\"\u001b[39m\u001b[38;5;124mdtype=\u001b[39m\u001b[38;5;124m'\u001b[39m\u001b[38;5;124mnumeric\u001b[39m\u001b[38;5;124m'\u001b[39m\u001b[38;5;124m is not compatible with arrays of bytes/strings.\u001b[39m\u001b[38;5;124m\"\u001b[39m\n\u001b[0;32m   1055\u001b[0m         \u001b[38;5;124m\"\u001b[39m\u001b[38;5;124mConvert your data to numeric values explicitly instead.\u001b[39m\u001b[38;5;124m\"\u001b[39m\n\u001b[0;32m   1056\u001b[0m     )\n",
      "\u001b[1;31mValueError\u001b[0m: Expected 2D array, got 1D array instead:\narray=[ 77  21  22  20  36  15  62  95  20   5   4  19  96  62  36  15  65  14\n  87  69  89  51  89  27  97  58  79  21  93  27  99  31  33  80  28  47\n  53  69  28  33  91  71  50  76   4  37  70  68  40  35  94  88  52  31\n  59   0  39  64  69  57  13  72  76  61  82  18  41  50  55  13  46  13\n  79  53  15  28  81  69  52  84  68  27  56  48  40  39  82 100  59  43\n  67  38  63  91  60  14  21  87  73  32   2  82  19  74  42  12   1  90\n  89   0  41  16  94  97  66  24  17  90  13   0  64  96  98  12  41  47\n  78  20  89  29  64  75  12  25  28  30  65  59  64  53  71  97  73   9\n  12  63  99  60  35   2  60  32  94  84  63  22  81  93  33   7  42  46\n  54  16  49  43  95  66  21  35  80  37  54  56   1  32  58  32  46  72\n  17  97  93  91  37   4  54  51  27  46  92  73  77  91  61  99   4  72\n  19  57  78  26  74  90  66  13  40  77  67  75  23  45  59  44  23  55\n  55  95  12   4   7 100  48  42  96  39 100  87  14  14  37   5  88  91\n  65  74  56  16   5  28  92  46  54  39  44  31  68  86  90  38  21  95\n  56  60  65  78  89   6  67  36  16 100  45  73  57  20  76  34  55  72\n  55   8  56  72  58   6  96  23  58  23  19  25  64  21  59  19  16  42\n  43  61  92  11  41   1   8  71  46  55  62  47].\nReshape your data either using array.reshape(-1, 1) if your data has a single feature or array.reshape(1, -1) if it contains a single sample."
     ]
    }
   ],
   "source": [
    "# 1. Scikit-learn LinearRegression modelini eğitelim\n",
    "model = LinearRegression()  # Modeli tanımlıyoruz\n",
    "model.fit(X, y)  # Modeli verilerle eğitiyoruz\n",
    "\n",
    "# 2. Tahmin (Prediction) yapalım\n",
    "y_pred = model.predict(X)  # Modelin tahmin değerlerini hesaplıyoruz\n",
    "\n",
    "# 3. MSE (Mean Squared Error) hesaplayalım\n",
    "mse_sklearn = mean_squared_error(y, y_pred)\n",
    "print(f\"Scikit-learn Modeli için Mean Squared Error (MSE): {mse_sklearn:.4f}\")\n",
    "\n",
    "# 4. Modelin eğim (slope) ve sabit terimi (intercept) değerlerini alalım\n",
    "print(f\"Eğim (Theta1): {model.coef_[0]:.4f}\")\n",
    "print(f\"Sabit Terim (Theta0): {model.intercept_:.4f}\")"
   ]
  },
  {
   "cell_type": "code",
   "execution_count": null,
   "id": "2d0049e3-a493-472d-afd1-ddc99a0e9de8",
   "metadata": {},
   "outputs": [],
   "source": []
  }
 ],
 "metadata": {
  "kernelspec": {
   "display_name": "Python 3 (ipykernel)",
   "language": "python",
   "name": "python3"
  },
  "language_info": {
   "codemirror_mode": {
    "name": "ipython",
    "version": 3
   },
   "file_extension": ".py",
   "mimetype": "text/x-python",
   "name": "python",
   "nbconvert_exporter": "python",
   "pygments_lexer": "ipython3",
   "version": "3.12.7"
  }
 },
 "nbformat": 4,
 "nbformat_minor": 5
}
