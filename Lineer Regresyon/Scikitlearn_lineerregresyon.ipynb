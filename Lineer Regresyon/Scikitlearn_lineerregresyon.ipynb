{
 "cells": [
  {
   "cell_type": "code",
   "execution_count": 5,
   "id": "d139c1c5-9fc4-4483-9407-7c418d20d610",
   "metadata": {},
   "outputs": [],
   "source": [
    "from sklearn.linear_model import LinearRegression\n",
    "from sklearn.metrics import mean_squared_error\n",
    "import numpy as np\n",
    "import pandas as pd"
   ]
  },
  {
   "cell_type": "code",
   "execution_count": null,
   "id": "7fb326d0-a7cf-40ff-8ff1-0f375eb69146",
   "metadata": {},
   "outputs": [],
   "source": [
    "test = pd.read_csv(\"test.csv\")\n",
    "test.info()\n",
    "\n",
    "X= np.array(test[\"x\"]).reshape(-1,1)\n",
    "y= np.array(test[\"y\"])\n",
    "X"
   ]
  },
  {
   "cell_type": "code",
   "execution_count": 10,
   "id": "ef6963ab-8676-4568-8b8e-ffbd8c7c4e6b",
   "metadata": {},
   "outputs": [
    {
     "name": "stdout",
     "output_type": "stream",
     "text": [
      "Scikit-learn Modeli için Mean Squared Error (MSE): 9.1643\n",
      "Eğim (Theta1): 1.0143\n",
      "Sabit Terim (Theta0): -0.4618\n"
     ]
    }
   ],
   "source": [
    "# 1. Scikit-learn LinearRegression modelini eğitelim\n",
    "model = LinearRegression()  # Modeli tanımlıyoruz\n",
    "model.fit(X, y)  # Modeli verilerle eğitiyoruz\n",
    "\n",
    "# 2. Tahmin (Prediction) yapalım\n",
    "y_pred = model.predict(X)  # Modelin tahmin değerlerini hesaplıyoruz\n",
    "\n",
    "# 3. MSE (Mean Squared Error) hesaplayalım\n",
    "mse_sklearn = mean_squared_error(y, y_pred)\n",
    "print(f\"Scikit-learn Modeli için Mean Squared Error (MSE): {mse_sklearn:.4f}\")\n",
    "\n",
    "# 4. Modelin eğim (slope) ve sabit terimi (intercept) değerlerini alalım\n",
    "print(f\"Eğim (Theta1): {model.coef_[0]:.4f}\")\n",
    "print(f\"Sabit Terim (Theta0): {model.intercept_:.4f}\")"
   ]
  },
  {
   "cell_type": "code",
   "execution_count": null,
   "id": "2d0049e3-a493-472d-afd1-ddc99a0e9de8",
   "metadata": {},
   "outputs": [],
   "source": []
  }
 ],
 "metadata": {
  "kernelspec": {
   "display_name": "Python 3 (ipykernel)",
   "language": "python",
   "name": "python3"
  },
  "language_info": {
   "codemirror_mode": {
    "name": "ipython",
    "version": 3
   },
   "file_extension": ".py",
   "mimetype": "text/x-python",
   "name": "python",
   "nbconvert_exporter": "python",
   "pygments_lexer": "ipython3",
   "version": "3.12.7"
  }
 },
 "nbformat": 4,
 "nbformat_minor": 5
}
